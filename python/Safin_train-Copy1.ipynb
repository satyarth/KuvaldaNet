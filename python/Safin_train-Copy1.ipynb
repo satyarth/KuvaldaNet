{
 "cells": [
  {
   "cell_type": "code",
   "execution_count": 1,
   "metadata": {},
   "outputs": [
    {
     "name": "stdout",
     "output_type": "stream",
     "text": [
      "Sat Nov 17 14:07:39 2018       \n",
      "+-----------------------------------------------------------------------------+\n",
      "| NVIDIA-SMI 396.44                 Driver Version: 396.44                    |\n",
      "|-------------------------------+----------------------+----------------------+\n",
      "| GPU  Name        Persistence-M| Bus-Id        Disp.A | Volatile Uncorr. ECC |\n",
      "| Fan  Temp  Perf  Pwr:Usage/Cap|         Memory-Usage | GPU-Util  Compute M. |\n",
      "|===============================+======================+======================|\n",
      "|   0  Tesla V100-SXM2...  On   | 00000000:1A:00.0 Off |                    0 |\n",
      "| N/A   35C    P0    54W / 300W |  13434MiB / 16160MiB |      0%      Default |\n",
      "+-------------------------------+----------------------+----------------------+\n",
      "|   1  Tesla V100-SXM2...  On   | 00000000:1C:00.0 Off |                    0 |\n",
      "| N/A   31C    P0    41W / 300W |      0MiB / 16160MiB |      0%      Default |\n",
      "+-------------------------------+----------------------+----------------------+\n",
      "|   2  Tesla V100-SXM2...  On   | 00000000:1D:00.0 Off |                    0 |\n",
      "| N/A   31C    P0    39W / 300W |      0MiB / 16160MiB |      0%      Default |\n",
      "+-------------------------------+----------------------+----------------------+\n",
      "|   3  Tesla V100-SXM2...  On   | 00000000:1E:00.0 Off |                    0 |\n",
      "| N/A   57C    P0   125W / 300W |   8103MiB / 16160MiB |    100%      Default |\n",
      "+-------------------------------+----------------------+----------------------+\n",
      "                                                                               \n",
      "+-----------------------------------------------------------------------------+\n",
      "| Processes:                                                       GPU Memory |\n",
      "|  GPU       PID   Type   Process name                             Usage      |\n",
      "|=============================================================================|\n",
      "+-----------------------------------------------------------------------------+\n"
     ]
    }
   ],
   "source": [
    "!nvidia-smi"
   ]
  },
  {
   "cell_type": "code",
   "execution_count": 1,
   "metadata": {},
   "outputs": [],
   "source": [
    "import numpy as np\n",
    "import pandas as pd\n",
    "\n",
    "from skimage.io import imread\n",
    "from skimage.transform import resize\n",
    "\n",
    "import pydicom\n",
    "from pydicom.data import get_testdata_files\n",
    "\n",
    "import os\n",
    "from tensorboardX import SummaryWriter\n",
    "\n",
    "from datasets import Brains\n",
    "from modules import Conv2D1, ConvTranspose2D1\n",
    "from models import UNet3D\n",
    "\n",
    "import matplotlib.pyplot as plt\n",
    "from IPython import display\n",
    "%matplotlib inline"
   ]
  },
  {
   "cell_type": "code",
   "execution_count": 2,
   "metadata": {},
   "outputs": [],
   "source": [
    "import torch\n",
    "import torch.nn as nn\n",
    "import torch.nn.functional as F\n",
    "from torch.autograd import Variable\n",
    "\n",
    "import torchvision\n",
    "import torchvision.transforms as transforms\n",
    "from torch.utils.data import Dataset"
   ]
  },
  {
   "cell_type": "code",
   "execution_count": 3,
   "metadata": {},
   "outputs": [],
   "source": [
    "os.environ['CUDA_VISIBLE_DEVICES'] = '1'"
   ]
  },
  {
   "cell_type": "code",
   "execution_count": 4,
   "metadata": {},
   "outputs": [],
   "source": [
    "data = Brains(crop_size=(64,64))\n",
    "batch_size = 2\n",
    "datait = torch.utils.data.DataLoader(data, batch_size=batch_size, shuffle=True, drop_last=False, num_workers=20)"
   ]
  },
  {
   "cell_type": "code",
   "execution_count": 5,
   "metadata": {},
   "outputs": [
    {
     "name": "stdout",
     "output_type": "stream",
     "text": [
      "[tensor([[[[[  16.,   11.,    9.,  ...,   13.,    8.,    3.],\n",
      "           [  18.,   19.,   18.,  ...,   14.,   11.,    5.],\n",
      "           [  12.,   22.,   26.,  ...,   11.,    8.,    4.],\n",
      "           ...,\n",
      "           [   9.,   11.,   14.,  ...,   12.,   21.,   21.],\n",
      "           [   5.,    5.,    6.,  ...,    6.,   11.,   14.],\n",
      "           [   4.,    3.,    1.,  ...,   17.,   10.,    3.]],\n",
      "\n",
      "          [[  17.,   12.,   11.,  ...,   15.,   15.,   14.],\n",
      "           [  11.,   15.,   24.,  ...,   21.,   17.,   19.],\n",
      "           [  16.,   10.,   31.,  ...,   20.,   14.,   12.],\n",
      "           ...,\n",
      "           [  11.,   16.,   20.,  ...,  287.,  327.,  357.],\n",
      "           [   3.,    7.,   17.,  ...,  307.,  353.,  379.],\n",
      "           [   4.,    6.,   19.,  ...,  335.,  393.,  420.]],\n",
      "\n",
      "          [[   4.,    2.,    1.,  ...,   16.,   19.,   21.],\n",
      "           [  13.,    7.,    5.,  ...,   15.,   19.,   22.],\n",
      "           [  24.,   21.,   11.,  ...,   14.,   26.,   34.],\n",
      "           ...,\n",
      "           [  17.,   15.,   12.,  ...,  286.,  291.,  301.],\n",
      "           [  10.,    9.,   10.,  ...,  261.,  261.,  264.],\n",
      "           [   1.,    2.,   12.,  ...,  247.,  228.,  208.]],\n",
      "\n",
      "          ...,\n",
      "\n",
      "          [[  14.,    7.,    8.,  ...,   15.,   19.,   21.],\n",
      "           [  19.,   11.,    4.,  ...,   21.,   17.,   20.],\n",
      "           [  15.,   15.,   14.,  ...,   17.,   14.,   19.],\n",
      "           ...,\n",
      "           [  12.,   11.,    5.,  ...,  350.,  328.,  302.],\n",
      "           [  13.,   15.,   13.,  ...,  348.,  333.,  309.],\n",
      "           [   9.,    9.,   15.,  ...,  357.,  356.,  337.]],\n",
      "\n",
      "          [[  11.,    5.,    8.,  ...,   18.,   11.,   14.],\n",
      "           [   9.,    6.,   14.,  ...,   18.,   11.,    6.],\n",
      "           [   6.,    7.,   19.,  ...,   15.,   10.,   10.],\n",
      "           ...,\n",
      "           [  23.,   19.,   14.,  ...,   32.,   32.,   32.],\n",
      "           [  16.,   14.,   11.,  ...,   38.,   44.,   47.],\n",
      "           [  13.,   14.,   15.,  ...,   48.,   59.,   62.]],\n",
      "\n",
      "          [[   7.,   19.,   23.,  ...,   22.,   16.,   11.],\n",
      "           [   9.,   11.,   15.,  ...,   14.,   17.,   11.],\n",
      "           [  21.,   12.,    6.,  ...,    4.,    8.,    8.],\n",
      "           ...,\n",
      "           [   5.,    9.,    8.,  ...,   15.,   19.,   20.],\n",
      "           [   9.,   15.,   10.,  ...,   13.,   22.,   25.],\n",
      "           [   8.,    7.,    4.,  ...,   12.,   20.,   22.]]]],\n",
      "\n",
      "\n",
      "\n",
      "        [[[[ 584.,  568.,  484.,  ...,    4.,   13.,   14.],\n",
      "           [ 573.,  512.,  406.,  ...,   18.,   22.,   10.],\n",
      "           [ 498.,  410.,  320.,  ...,   37.,   35.,   15.],\n",
      "           ...,\n",
      "           [  18.,   13.,    6.,  ...,   15.,    7.,   10.],\n",
      "           [  26.,   22.,   14.,  ...,   20.,    5.,   24.],\n",
      "           [  22.,   21.,   11.,  ...,   12.,   14.,   32.]],\n",
      "\n",
      "          [[ 263.,  301.,  303.,  ...,  177.,  151.,  125.],\n",
      "           [ 327.,  352.,  312.,  ...,  153.,  128.,  107.],\n",
      "           [ 370.,  370.,  296.,  ...,  121.,  105.,   90.],\n",
      "           ...,\n",
      "           [  24.,   20.,   36.,  ...,   11.,   12.,   21.],\n",
      "           [  11.,   22.,   35.,  ...,   13.,   19.,   21.],\n",
      "           [   6.,   20.,   35.,  ...,   19.,   19.,   16.]],\n",
      "\n",
      "          [[  43.,   60.,   94.,  ...,  902.,  922.,  937.],\n",
      "           [  45.,   43.,   68.,  ...,  861.,  873.,  900.],\n",
      "           [  50.,   39.,   51.,  ...,  844.,  855.,  903.],\n",
      "           ...,\n",
      "           [ 363.,  386.,  420.,  ...,   20.,   17.,   14.],\n",
      "           [ 360.,  389.,  435.,  ...,   20.,   17.,   13.],\n",
      "           [ 344.,  352.,  399.,  ...,   18.,   17.,   17.]],\n",
      "\n",
      "          ...,\n",
      "\n",
      "          [[  45.,   66.,   65.,  ...,  886.,  886.,  876.],\n",
      "           [  25.,   58.,   66.,  ...,  948.,  962.,  927.],\n",
      "           [  13.,   43.,   53.,  ...,  961.,  979.,  941.],\n",
      "           ...,\n",
      "           [ 152.,  188.,  196.,  ...,   27.,   27.,   23.],\n",
      "           [ 142.,  176.,  186.,  ...,   33.,   24.,   20.],\n",
      "           [ 128.,  165.,  183.,  ...,   32.,   17.,   15.]],\n",
      "\n",
      "          [[ 232.,  215.,  207.,  ...,  368.,  302.,  236.],\n",
      "           [ 232.,  219.,  200.,  ...,  345.,  299.,  229.],\n",
      "           [ 257.,  257.,  225.,  ...,  305.,  287.,  229.],\n",
      "           ...,\n",
      "           [ 190.,  153.,  115.,  ...,   17.,   15.,   15.],\n",
      "           [ 187.,  159.,  116.,  ...,   20.,   17.,   11.],\n",
      "           [ 174.,  161.,  124.,  ...,   12.,   12.,    7.]],\n",
      "\n",
      "          [[ 335.,  371.,  383.,  ...,   10.,   16.,    9.],\n",
      "           [ 320.,  335.,  361.,  ...,    5.,   10.,   10.],\n",
      "           [ 295.,  303.,  343.,  ...,    9.,   13.,   19.],\n",
      "           ...,\n",
      "           [  25.,   16.,   17.,  ...,   22.,   12.,    4.],\n",
      "           [  13.,   19.,   26.,  ...,   22.,   15.,    9.],\n",
      "           [  19.,   25.,   22.,  ...,   16.,   11.,    9.]]]]],\n",
      "       dtype=torch.float64), tensor([[[[[0, 0, 0,  ..., 0, 0, 0],\n",
      "           [0, 0, 0,  ..., 0, 0, 0],\n",
      "           [0, 0, 0,  ..., 0, 0, 0],\n",
      "           ...,\n",
      "           [0, 0, 0,  ..., 0, 0, 0],\n",
      "           [0, 0, 0,  ..., 0, 0, 0],\n",
      "           [0, 0, 0,  ..., 0, 0, 0]],\n",
      "\n",
      "          [[0, 0, 0,  ..., 0, 0, 0],\n",
      "           [0, 0, 0,  ..., 0, 0, 0],\n",
      "           [0, 0, 0,  ..., 0, 0, 0],\n",
      "           ...,\n",
      "           [0, 0, 0,  ..., 0, 0, 0],\n",
      "           [0, 0, 0,  ..., 0, 0, 0],\n",
      "           [0, 0, 0,  ..., 0, 0, 0]],\n",
      "\n",
      "          [[0, 0, 0,  ..., 0, 0, 0],\n",
      "           [0, 0, 0,  ..., 0, 0, 0],\n",
      "           [0, 0, 0,  ..., 0, 0, 0],\n",
      "           ...,\n",
      "           [0, 0, 0,  ..., 0, 0, 0],\n",
      "           [0, 0, 0,  ..., 0, 0, 0],\n",
      "           [0, 0, 0,  ..., 0, 0, 0]],\n",
      "\n",
      "          ...,\n",
      "\n",
      "          [[0, 0, 0,  ..., 0, 0, 0],\n",
      "           [0, 0, 0,  ..., 0, 0, 0],\n",
      "           [0, 0, 0,  ..., 0, 0, 0],\n",
      "           ...,\n",
      "           [0, 0, 0,  ..., 0, 0, 0],\n",
      "           [0, 0, 0,  ..., 0, 0, 0],\n",
      "           [0, 0, 0,  ..., 0, 0, 0]],\n",
      "\n",
      "          [[0, 0, 0,  ..., 0, 0, 0],\n",
      "           [0, 0, 0,  ..., 0, 0, 0],\n",
      "           [0, 0, 0,  ..., 0, 0, 0],\n",
      "           ...,\n",
      "           [0, 0, 0,  ..., 0, 0, 0],\n",
      "           [0, 0, 0,  ..., 0, 0, 0],\n",
      "           [0, 0, 0,  ..., 0, 0, 0]],\n",
      "\n",
      "          [[0, 0, 0,  ..., 0, 0, 0],\n",
      "           [0, 0, 0,  ..., 0, 0, 0],\n",
      "           [0, 0, 0,  ..., 0, 0, 0],\n",
      "           ...,\n",
      "           [0, 0, 0,  ..., 0, 0, 0],\n",
      "           [0, 0, 0,  ..., 0, 0, 0],\n",
      "           [0, 0, 0,  ..., 0, 0, 0]]]],\n",
      "\n",
      "\n",
      "\n",
      "        [[[[0, 0, 0,  ..., 0, 0, 0],\n",
      "           [0, 0, 0,  ..., 0, 0, 0],\n",
      "           [0, 0, 0,  ..., 0, 0, 0],\n",
      "           ...,\n",
      "           [0, 0, 0,  ..., 0, 0, 0],\n",
      "           [0, 0, 0,  ..., 0, 0, 0],\n",
      "           [0, 0, 0,  ..., 0, 0, 0]],\n",
      "\n",
      "          [[0, 0, 0,  ..., 0, 0, 0],\n",
      "           [0, 0, 0,  ..., 0, 0, 0],\n",
      "           [0, 0, 0,  ..., 0, 0, 0],\n",
      "           ...,\n",
      "           [0, 0, 0,  ..., 0, 0, 0],\n",
      "           [0, 0, 0,  ..., 0, 0, 0],\n",
      "           [0, 0, 0,  ..., 0, 0, 0]],\n",
      "\n",
      "          [[0, 0, 0,  ..., 0, 0, 0],\n",
      "           [0, 0, 0,  ..., 0, 0, 0],\n",
      "           [0, 0, 0,  ..., 0, 0, 0],\n",
      "           ...,\n",
      "           [0, 0, 0,  ..., 0, 0, 0],\n",
      "           [0, 0, 0,  ..., 0, 0, 0],\n",
      "           [0, 0, 0,  ..., 0, 0, 0]],\n",
      "\n",
      "          ...,\n",
      "\n",
      "          [[0, 0, 0,  ..., 0, 0, 0],\n",
      "           [0, 0, 0,  ..., 0, 0, 0],\n",
      "           [0, 0, 0,  ..., 0, 0, 0],\n",
      "           ...,\n",
      "           [0, 0, 0,  ..., 0, 0, 0],\n",
      "           [0, 0, 0,  ..., 0, 0, 0],\n",
      "           [0, 0, 0,  ..., 0, 0, 0]],\n",
      "\n",
      "          [[0, 0, 0,  ..., 0, 0, 0],\n",
      "           [0, 0, 0,  ..., 0, 0, 0],\n",
      "           [0, 0, 0,  ..., 0, 0, 0],\n",
      "           ...,\n",
      "           [0, 0, 0,  ..., 0, 0, 0],\n",
      "           [0, 0, 0,  ..., 0, 0, 0],\n",
      "           [0, 0, 0,  ..., 0, 0, 0]],\n",
      "\n",
      "          [[0, 0, 0,  ..., 0, 0, 0],\n",
      "           [0, 0, 0,  ..., 0, 0, 0],\n",
      "           [0, 0, 0,  ..., 0, 0, 0],\n",
      "           ...,\n",
      "           [0, 0, 0,  ..., 0, 0, 0],\n",
      "           [0, 0, 0,  ..., 0, 0, 0],\n",
      "           [0, 0, 0,  ..., 0, 0, 0]]]]])]\n"
     ]
    }
   ],
   "source": [
    "for i in datait:\n",
    "    print(i)\n",
    "    break"
   ]
  },
  {
   "cell_type": "code",
   "execution_count": 9,
   "metadata": {},
   "outputs": [
    {
     "data": {
      "text/plain": [
       "torch.Size([2, 1, 22, 64, 64])"
      ]
     },
     "execution_count": 9,
     "metadata": {},
     "output_type": "execute_result"
    }
   ],
   "source": [
    "i[0]."
   ]
  },
  {
   "cell_type": "code",
   "execution_count": 5,
   "metadata": {},
   "outputs": [],
   "source": [
    "baseline_unet = UNet3D(input_nc=1, output_nc=2).cuda()"
   ]
  },
  {
   "cell_type": "code",
   "execution_count": 6,
   "metadata": {},
   "outputs": [],
   "source": [
    "baseline_unet.load_state_dict(torch.load(\"safin_model\"))"
   ]
  },
  {
   "cell_type": "code",
   "execution_count": 7,
   "metadata": {},
   "outputs": [],
   "source": [
    "criterion = nn.CrossEntropyLoss(weight=torch.tensor([1.,25.]).float()).cuda()\n",
    "opt = torch.optim.Adam(baseline_unet.parameters(), lr=1e-4)\n",
    "epoch = 0\n",
    "train_loss = []\n",
    "\n"
   ]
  },
  {
   "cell_type": "code",
   "execution_count": 98,
   "metadata": {},
   "outputs": [
    {
     "data": {
      "image/png": "[encoded data removed]",
      "text/plain": [
       "<Figure size 720x720 with 2 Axes>"
      ]
     },
     "metadata": {
      "needs_background": "light"
     },
     "output_type": "display_data"
    }
   ],
   "source": [
    "i = 3\n",
    "plt.figure(figsize=(10,10))\n",
    "plt.subplot(2,2,1)\n",
    "plt.imshow(data[0][0][0,i][i_arr.min():i_arr.max(), j_arr.min():j_arr.max()])\n",
    "plt.subplot(2,2,2)\n",
    "plt.imshow(data[0][1][0,i][i_arr.min():i_arr.max(), j_arr.min():j_arr.max()])\n",
    "plt.tight_layout()"
   ]
  },
  {
   "cell_type": "code",
   "execution_count": 9,
   "metadata": {},
   "outputs": [
    {
     "data": {
      "image/png": "[encoded data removed]",
      "text/plain": [
       "<Figure size 720x720 with 2 Axes>"
      ]
     },
     "metadata": {
      "needs_background": "light"
     },
     "output_type": "display_data"
    }
   ],
   "source": [
    "i = 2\n",
    "plt.figure(figsize=(10,10))\n",
    "plt.subplot(2,2,1)\n",
    "plt.imshow(data[0][0][0,i])\n",
    "plt.subplot(2,2,2)\n",
    "plt.imshow(data[0][1][0,i])\n",
    "plt.tight_layout()"
   ]
  },
  {
   "cell_type": "code",
   "execution_count": 8,
   "metadata": {},
   "outputs": [],
   "source": [
    "def dice_score(input, target):\n",
    "    smooth = 1e-3\n",
    "    iflat = input.reshape((input.size(0),-1))\n",
    "    tflat = target.reshape((target.size(0),-1))\n",
    "    intersection = (iflat * tflat).sum(1)\n",
    "    \n",
    "    return ((2. * intersection + smooth) / (iflat.sum(1) + tflat.sum(1)-intersection + smooth))"
   ]
  },
  {
   "cell_type": "code",
   "execution_count": 9,
   "metadata": {},
   "outputs": [],
   "source": [
    "log_folder_path = \"../logs/\"\n",
    "writer = SummaryWriter(log_folder_path) #or we could put the name of experiment"
   ]
  },
  {
   "cell_type": "code",
   "execution_count": 10,
   "metadata": {},
   "outputs": [
    {
     "name": "stdout",
     "output_type": "stream",
     "text": [
      "Epoch 0\n"
     ]
    },
    {
     "ename": "RuntimeError",
     "evalue": "Input type (torch.cuda.DoubleTensor) and weight type (torch.cuda.FloatTensor) should be the same",
     "output_type": "error",
     "traceback": [
      "\u001b[0;31m---------------------------------------------------------------------------\u001b[0m",
      "\u001b[0;31mRuntimeError\u001b[0m                              Traceback (most recent call last)",
      "\u001b[0;32m<ipython-input-10-0ae5f0bc3e53>\u001b[0m in \u001b[0;36m<module>\u001b[0;34m\u001b[0m\n\u001b[1;32m      8\u001b[0m     \u001b[0;32mfor\u001b[0m \u001b[0mX_batch\u001b[0m\u001b[0;34m,\u001b[0m \u001b[0mmasks_batch\u001b[0m \u001b[0;32min\u001b[0m \u001b[0mdatait\u001b[0m\u001b[0;34m:\u001b[0m\u001b[0;34m\u001b[0m\u001b[0;34m\u001b[0m\u001b[0m\n\u001b[1;32m      9\u001b[0m \u001b[0;31m#         X_batch = X_batch[0]\u001b[0m\u001b[0;34m\u001b[0m\u001b[0;34m\u001b[0m\u001b[0;34m\u001b[0m\u001b[0m\n\u001b[0;32m---> 10\u001b[0;31m         \u001b[0mprobs\u001b[0m \u001b[0;34m=\u001b[0m \u001b[0mbaseline_unet\u001b[0m\u001b[0;34m(\u001b[0m\u001b[0mX_batch\u001b[0m\u001b[0;34m.\u001b[0m\u001b[0mcuda\u001b[0m\u001b[0;34m(\u001b[0m\u001b[0;34m)\u001b[0m\u001b[0;34m)\u001b[0m\u001b[0;34m\u001b[0m\u001b[0;34m\u001b[0m\u001b[0m\n\u001b[0m\u001b[1;32m     11\u001b[0m         \u001b[0m_\u001b[0m\u001b[0;34m,\u001b[0m \u001b[0mpreds\u001b[0m \u001b[0;34m=\u001b[0m \u001b[0mprobs\u001b[0m\u001b[0;34m.\u001b[0m\u001b[0mmax\u001b[0m\u001b[0;34m(\u001b[0m\u001b[0mdim\u001b[0m\u001b[0;34m=\u001b[0m\u001b[0;36m1\u001b[0m\u001b[0;34m,\u001b[0m \u001b[0mkeepdim\u001b[0m\u001b[0;34m=\u001b[0m\u001b[0;32mTrue\u001b[0m\u001b[0;34m)\u001b[0m\u001b[0;34m\u001b[0m\u001b[0;34m\u001b[0m\u001b[0m\n\u001b[1;32m     12\u001b[0m \u001b[0;34m\u001b[0m\u001b[0m\n",
      "\u001b[0;32m~/.pyenv/versions/3.6.7/lib/python3.6/site-packages/torch/nn/modules/module.py\u001b[0m in \u001b[0;36m__call__\u001b[0;34m(self, *input, **kwargs)\u001b[0m\n\u001b[1;32m    475\u001b[0m             \u001b[0mresult\u001b[0m \u001b[0;34m=\u001b[0m \u001b[0mself\u001b[0m\u001b[0;34m.\u001b[0m\u001b[0m_slow_forward\u001b[0m\u001b[0;34m(\u001b[0m\u001b[0;34m*\u001b[0m\u001b[0minput\u001b[0m\u001b[0;34m,\u001b[0m \u001b[0;34m**\u001b[0m\u001b[0mkwargs\u001b[0m\u001b[0;34m)\u001b[0m\u001b[0;34m\u001b[0m\u001b[0;34m\u001b[0m\u001b[0m\n\u001b[1;32m    476\u001b[0m         \u001b[0;32melse\u001b[0m\u001b[0;34m:\u001b[0m\u001b[0;34m\u001b[0m\u001b[0;34m\u001b[0m\u001b[0m\n\u001b[0;32m--> 477\u001b[0;31m             \u001b[0mresult\u001b[0m \u001b[0;34m=\u001b[0m \u001b[0mself\u001b[0m\u001b[0;34m.\u001b[0m\u001b[0mforward\u001b[0m\u001b[0;34m(\u001b[0m\u001b[0;34m*\u001b[0m\u001b[0minput\u001b[0m\u001b[0;34m,\u001b[0m \u001b[0;34m**\u001b[0m\u001b[0mkwargs\u001b[0m\u001b[0;34m)\u001b[0m\u001b[0;34m\u001b[0m\u001b[0;34m\u001b[0m\u001b[0m\n\u001b[0m\u001b[1;32m    478\u001b[0m         \u001b[0;32mfor\u001b[0m \u001b[0mhook\u001b[0m \u001b[0;32min\u001b[0m \u001b[0mself\u001b[0m\u001b[0;34m.\u001b[0m\u001b[0m_forward_hooks\u001b[0m\u001b[0;34m.\u001b[0m\u001b[0mvalues\u001b[0m\u001b[0;34m(\u001b[0m\u001b[0;34m)\u001b[0m\u001b[0;34m:\u001b[0m\u001b[0;34m\u001b[0m\u001b[0;34m\u001b[0m\u001b[0m\n\u001b[1;32m    479\u001b[0m             \u001b[0mhook_result\u001b[0m \u001b[0;34m=\u001b[0m \u001b[0mhook\u001b[0m\u001b[0;34m(\u001b[0m\u001b[0mself\u001b[0m\u001b[0;34m,\u001b[0m \u001b[0minput\u001b[0m\u001b[0;34m,\u001b[0m \u001b[0mresult\u001b[0m\u001b[0;34m)\u001b[0m\u001b[0;34m\u001b[0m\u001b[0;34m\u001b[0m\u001b[0m\n",
      "\u001b[0;32m/notebook/python/models.py\u001b[0m in \u001b[0;36mforward\u001b[0;34m(self, x)\u001b[0m\n\u001b[1;32m     97\u001b[0m     \u001b[0;32mdef\u001b[0m \u001b[0mforward\u001b[0m\u001b[0;34m(\u001b[0m\u001b[0mself\u001b[0m\u001b[0;34m,\u001b[0m \u001b[0mx\u001b[0m\u001b[0;34m)\u001b[0m\u001b[0;34m:\u001b[0m\u001b[0;34m\u001b[0m\u001b[0;34m\u001b[0m\u001b[0m\n\u001b[1;32m     98\u001b[0m \u001b[0;34m\u001b[0m\u001b[0m\n\u001b[0;32m---> 99\u001b[0;31m         \u001b[0mx_in\u001b[0m \u001b[0;34m=\u001b[0m \u001b[0mself\u001b[0m\u001b[0;34m.\u001b[0m\u001b[0minconv\u001b[0m\u001b[0;34m(\u001b[0m\u001b[0mx\u001b[0m\u001b[0;34m)\u001b[0m\u001b[0;34m\u001b[0m\u001b[0;34m\u001b[0m\u001b[0m\n\u001b[0m\u001b[1;32m    100\u001b[0m \u001b[0;31m#         print(x_in.shape)\u001b[0m\u001b[0;34m\u001b[0m\u001b[0;34m\u001b[0m\u001b[0;34m\u001b[0m\u001b[0m\n\u001b[1;32m    101\u001b[0m         \u001b[0mx1\u001b[0m \u001b[0;34m=\u001b[0m \u001b[0mself\u001b[0m\u001b[0;34m.\u001b[0m\u001b[0mdown1\u001b[0m\u001b[0;34m(\u001b[0m\u001b[0mx_in\u001b[0m\u001b[0;34m)\u001b[0m\u001b[0;34m\u001b[0m\u001b[0;34m\u001b[0m\u001b[0m\n",
      "\u001b[0;32m~/.pyenv/versions/3.6.7/lib/python3.6/site-packages/torch/nn/modules/module.py\u001b[0m in \u001b[0;36m__call__\u001b[0;34m(self, *input, **kwargs)\u001b[0m\n\u001b[1;32m    475\u001b[0m             \u001b[0mresult\u001b[0m \u001b[0;34m=\u001b[0m \u001b[0mself\u001b[0m\u001b[0;34m.\u001b[0m\u001b[0m_slow_forward\u001b[0m\u001b[0;34m(\u001b[0m\u001b[0;34m*\u001b[0m\u001b[0minput\u001b[0m\u001b[0;34m,\u001b[0m \u001b[0;34m**\u001b[0m\u001b[0mkwargs\u001b[0m\u001b[0;34m)\u001b[0m\u001b[0;34m\u001b[0m\u001b[0;34m\u001b[0m\u001b[0m\n\u001b[1;32m    476\u001b[0m         \u001b[0;32melse\u001b[0m\u001b[0;34m:\u001b[0m\u001b[0;34m\u001b[0m\u001b[0;34m\u001b[0m\u001b[0m\n\u001b[0;32m--> 477\u001b[0;31m             \u001b[0mresult\u001b[0m \u001b[0;34m=\u001b[0m \u001b[0mself\u001b[0m\u001b[0;34m.\u001b[0m\u001b[0mforward\u001b[0m\u001b[0;34m(\u001b[0m\u001b[0;34m*\u001b[0m\u001b[0minput\u001b[0m\u001b[0;34m,\u001b[0m \u001b[0;34m**\u001b[0m\u001b[0mkwargs\u001b[0m\u001b[0;34m)\u001b[0m\u001b[0;34m\u001b[0m\u001b[0;34m\u001b[0m\u001b[0m\n\u001b[0m\u001b[1;32m    478\u001b[0m         \u001b[0;32mfor\u001b[0m \u001b[0mhook\u001b[0m \u001b[0;32min\u001b[0m \u001b[0mself\u001b[0m\u001b[0;34m.\u001b[0m\u001b[0m_forward_hooks\u001b[0m\u001b[0;34m.\u001b[0m\u001b[0mvalues\u001b[0m\u001b[0;34m(\u001b[0m\u001b[0;34m)\u001b[0m\u001b[0;34m:\u001b[0m\u001b[0;34m\u001b[0m\u001b[0;34m\u001b[0m\u001b[0m\n\u001b[1;32m    479\u001b[0m             \u001b[0mhook_result\u001b[0m \u001b[0;34m=\u001b[0m \u001b[0mhook\u001b[0m\u001b[0;34m(\u001b[0m\u001b[0mself\u001b[0m\u001b[0;34m,\u001b[0m \u001b[0minput\u001b[0m\u001b[0;34m,\u001b[0m \u001b[0mresult\u001b[0m\u001b[0;34m)\u001b[0m\u001b[0;34m\u001b[0m\u001b[0;34m\u001b[0m\u001b[0m\n",
      "\u001b[0;32m~/.pyenv/versions/3.6.7/lib/python3.6/site-packages/torch/nn/modules/container.py\u001b[0m in \u001b[0;36mforward\u001b[0;34m(self, input)\u001b[0m\n\u001b[1;32m     89\u001b[0m     \u001b[0;32mdef\u001b[0m \u001b[0mforward\u001b[0m\u001b[0;34m(\u001b[0m\u001b[0mself\u001b[0m\u001b[0;34m,\u001b[0m \u001b[0minput\u001b[0m\u001b[0;34m)\u001b[0m\u001b[0;34m:\u001b[0m\u001b[0;34m\u001b[0m\u001b[0;34m\u001b[0m\u001b[0m\n\u001b[1;32m     90\u001b[0m         \u001b[0;32mfor\u001b[0m \u001b[0mmodule\u001b[0m \u001b[0;32min\u001b[0m \u001b[0mself\u001b[0m\u001b[0;34m.\u001b[0m\u001b[0m_modules\u001b[0m\u001b[0;34m.\u001b[0m\u001b[0mvalues\u001b[0m\u001b[0;34m(\u001b[0m\u001b[0;34m)\u001b[0m\u001b[0;34m:\u001b[0m\u001b[0;34m\u001b[0m\u001b[0;34m\u001b[0m\u001b[0m\n\u001b[0;32m---> 91\u001b[0;31m             \u001b[0minput\u001b[0m \u001b[0;34m=\u001b[0m \u001b[0mmodule\u001b[0m\u001b[0;34m(\u001b[0m\u001b[0minput\u001b[0m\u001b[0;34m)\u001b[0m\u001b[0;34m\u001b[0m\u001b[0;34m\u001b[0m\u001b[0m\n\u001b[0m\u001b[1;32m     92\u001b[0m         \u001b[0;32mreturn\u001b[0m \u001b[0minput\u001b[0m\u001b[0;34m\u001b[0m\u001b[0;34m\u001b[0m\u001b[0m\n\u001b[1;32m     93\u001b[0m \u001b[0;34m\u001b[0m\u001b[0m\n",
      "\u001b[0;32m~/.pyenv/versions/3.6.7/lib/python3.6/site-packages/torch/nn/modules/module.py\u001b[0m in \u001b[0;36m__call__\u001b[0;34m(self, *input, **kwargs)\u001b[0m\n\u001b[1;32m    475\u001b[0m             \u001b[0mresult\u001b[0m \u001b[0;34m=\u001b[0m \u001b[0mself\u001b[0m\u001b[0;34m.\u001b[0m\u001b[0m_slow_forward\u001b[0m\u001b[0;34m(\u001b[0m\u001b[0;34m*\u001b[0m\u001b[0minput\u001b[0m\u001b[0;34m,\u001b[0m \u001b[0;34m**\u001b[0m\u001b[0mkwargs\u001b[0m\u001b[0;34m)\u001b[0m\u001b[0;34m\u001b[0m\u001b[0;34m\u001b[0m\u001b[0m\n\u001b[1;32m    476\u001b[0m         \u001b[0;32melse\u001b[0m\u001b[0;34m:\u001b[0m\u001b[0;34m\u001b[0m\u001b[0;34m\u001b[0m\u001b[0m\n\u001b[0;32m--> 477\u001b[0;31m             \u001b[0mresult\u001b[0m \u001b[0;34m=\u001b[0m \u001b[0mself\u001b[0m\u001b[0;34m.\u001b[0m\u001b[0mforward\u001b[0m\u001b[0;34m(\u001b[0m\u001b[0;34m*\u001b[0m\u001b[0minput\u001b[0m\u001b[0;34m,\u001b[0m \u001b[0;34m**\u001b[0m\u001b[0mkwargs\u001b[0m\u001b[0;34m)\u001b[0m\u001b[0;34m\u001b[0m\u001b[0;34m\u001b[0m\u001b[0m\n\u001b[0m\u001b[1;32m    478\u001b[0m         \u001b[0;32mfor\u001b[0m \u001b[0mhook\u001b[0m \u001b[0;32min\u001b[0m \u001b[0mself\u001b[0m\u001b[0;34m.\u001b[0m\u001b[0m_forward_hooks\u001b[0m\u001b[0;34m.\u001b[0m\u001b[0mvalues\u001b[0m\u001b[0;34m(\u001b[0m\u001b[0;34m)\u001b[0m\u001b[0;34m:\u001b[0m\u001b[0;34m\u001b[0m\u001b[0;34m\u001b[0m\u001b[0m\n\u001b[1;32m    479\u001b[0m             \u001b[0mhook_result\u001b[0m \u001b[0;34m=\u001b[0m \u001b[0mhook\u001b[0m\u001b[0;34m(\u001b[0m\u001b[0mself\u001b[0m\u001b[0;34m,\u001b[0m \u001b[0minput\u001b[0m\u001b[0;34m,\u001b[0m \u001b[0mresult\u001b[0m\u001b[0;34m)\u001b[0m\u001b[0;34m\u001b[0m\u001b[0;34m\u001b[0m\u001b[0m\n",
      "\u001b[0;32m~/.pyenv/versions/3.6.7/lib/python3.6/site-packages/torch/nn/modules/conv.py\u001b[0m in \u001b[0;36mforward\u001b[0;34m(self, input)\u001b[0m\n\u001b[1;32m    419\u001b[0m     \u001b[0;32mdef\u001b[0m \u001b[0mforward\u001b[0m\u001b[0;34m(\u001b[0m\u001b[0mself\u001b[0m\u001b[0;34m,\u001b[0m \u001b[0minput\u001b[0m\u001b[0;34m)\u001b[0m\u001b[0;34m:\u001b[0m\u001b[0;34m\u001b[0m\u001b[0;34m\u001b[0m\u001b[0m\n\u001b[1;32m    420\u001b[0m         return F.conv3d(input, self.weight, self.bias, self.stride,\n\u001b[0;32m--> 421\u001b[0;31m                         self.padding, self.dilation, self.groups)\n\u001b[0m\u001b[1;32m    422\u001b[0m \u001b[0;34m\u001b[0m\u001b[0m\n\u001b[1;32m    423\u001b[0m \u001b[0;34m\u001b[0m\u001b[0m\n",
      "\u001b[0;31mRuntimeError\u001b[0m: Input type (torch.cuda.DoubleTensor) and weight type (torch.cuda.FloatTensor) should be the same"
     ]
    }
   ],
   "source": [
    "i = 0\n",
    "while True:\n",
    "    print(\"Epoch\", epoch)\n",
    "    baseline_unet.train(True)\n",
    "    \n",
    "    epoch_loss = []\n",
    "    \n",
    "    for X_batch, masks_batch in datait:\n",
    "#         X_batch = X_batch[0]\n",
    "        probs = baseline_unet(X_batch.cuda())\n",
    "        _, preds = probs.max(dim=1, keepdim=True)\n",
    "\n",
    "#         print(preds.shape, masks_batch.shape)\n",
    "        loss = criterion(probs, masks_batch.squeeze(1).cuda())\n",
    "        writer.add_scalar('Cross entropy loss', loss.item(), i)\n",
    "        dice = dice_score(preds.float(), masks_batch.squeeze(1).cuda().float()).mean()\n",
    "        writer.add_scalar('Dice score', dice.item(), i)\n",
    "#         print(X_batch.shape)\n",
    "#         print(torchvision.utils.make_grid(X_batch).shape)\n",
    "        bool_mask, idx = masks_batch.reshape((*masks_batch.shape[:3],-1)).max(dim=-1)\n",
    "        if torch.any(bool_mask.reshape((1,-1)).byte()==1):\n",
    "            writer.add_image('Input image vs mask vs pred', torch.cat((X_batch[bool_mask.byte()][0], masks_batch[bool_mask.byte()][0].float(), preds[bool_mask.byte()][0].cpu().float()), dim=1), i)\n",
    "        \n",
    "#         score = dice_score(F.threshold(preds, 0.5, 1), masks_batch)\n",
    "        \n",
    "        # train on batch\n",
    "        opt.zero_grad()\n",
    "        loss.backward()\n",
    "        opt.step()\n",
    "        i += 1\n",
    "        \n",
    "        epoch_loss.append(loss.cpu().data.numpy())\n",
    "\n",
    "    train_loss.append(np.mean(epoch_loss))\n",
    "\n",
    "    display.clear_output(wait=True)\n",
    "\n",
    "    plt.clf()\n",
    "    plt.plot(train_loss[-100:])\n",
    "    plt.title('Train loss')\n",
    "    plt.show()\n",
    "#         display.display(plt.gcf())\n",
    "\n",
    "    epoch += 1"
   ]
  },
  {
   "cell_type": "code",
   "execution_count": 29,
   "metadata": {},
   "outputs": [
    {
     "data": {
      "text/plain": [
       "tensor([2193,    0], device='cuda:0')"
      ]
     },
     "execution_count": 29,
     "metadata": {},
     "output_type": "execute_result"
    }
   ],
   "source": [
    "(masks_batch.cuda()*preds).reshape((preds.size(0),-1)).sum(1)"
   ]
  },
  {
   "cell_type": "code",
   "execution_count": 30,
   "metadata": {},
   "outputs": [],
   "source": [
    "def dice_score(input, target):\n",
    "    smooth = 1e-3\n",
    "    iflat = input.reshape((input.size(0),-1))\n",
    "    tflat = target.reshape((target.size(0),-1))\n",
    "    intersection = (iflat * tflat).sum(1)\n",
    "    \n",
    "    return ((2. * intersection + smooth) / (iflat.sum(1) + tflat.sum(1)-intersection + smooth))"
   ]
  },
  {
   "cell_type": "code",
   "execution_count": 15,
   "metadata": {},
   "outputs": [
    {
     "data": {
      "text/plain": [
       "torch.Size([2, 1, 24, 64, 64])"
      ]
     },
     "execution_count": 15,
     "metadata": {},
     "output_type": "execute_result"
    }
   ],
   "source": [
    "masks_batch.shape"
   ]
  },
  {
   "cell_type": "code",
   "execution_count": 11,
   "metadata": {},
   "outputs": [],
   "source": [
    "torch.save(baseline_unet.state_dict(), \"safin_model\")"
   ]
  },
  {
   "cell_type": "code",
   "execution_count": 32,
   "metadata": {},
   "outputs": [
    {
     "data": {
      "text/plain": [
       "tensor([5.7642e-01, 9.7324e-08], device='cuda:0')"
      ]
     },
     "execution_count": 32,
     "metadata": {},
     "output_type": "execute_result"
    }
   ],
   "source": [
    "dice_score(preds.float(), masks_batch.squeeze(1).cuda().float())"
   ]
  },
  {
   "cell_type": "code",
   "execution_count": 12,
   "metadata": {},
   "outputs": [
    {
     "data": {
      "text/plain": [
       "tensor(0, device='cuda:0')"
      ]
     },
     "execution_count": 12,
     "metadata": {},
     "output_type": "execute_result"
    }
   ],
   "source": [
    "dice_score(preds, masks_batch.squeeze(1).cuda())"
   ]
  },
  {
   "cell_type": "code",
   "execution_count": null,
   "metadata": {},
   "outputs": [],
   "source": [
    "def dice_loss(input, target):\n",
    "    smooth = 1e-3\n",
    "    iflat = input.view(-1)\n",
    "    tflat = target.view(-1)\n",
    "    intersection = (iflat * tflat).sum()\n",
    "    \n",
    "    return 1-((2. * intersection + smooth) / (iflat.sum() + tflat.sum() + smooth))"
   ]
  }
 ],
 "metadata": {
  "kernelspec": {
   "display_name": "Python 3",
   "language": "python",
   "name": "python3"
  },
  "language_info": {
   "codemirror_mode": {
    "name": "ipython",
    "version": 3
   },
   "file_extension": ".py",
   "mimetype": "text/x-python",
   "name": "python",
   "nbconvert_exporter": "python",
   "pygments_lexer": "ipython3",
   "version": "3.6.7"
  }
 },
 "nbformat": 4,
 "nbformat_minor": 2
}
