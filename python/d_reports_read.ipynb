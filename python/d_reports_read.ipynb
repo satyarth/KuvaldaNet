{
 "cells": [
  {
   "cell_type": "markdown",
   "metadata": {},
   "source": [
    "Dictionary by hand:\n",
    "0 - Magnetom Verio, SIEMENS, 3 T\n",
    "1 - Magnetom Avanto, SIEMENS, 1,5 Т \n",
    "    Siemens MAGNETOM Avanto, 1,5T\n",
    "2 - Magnetom Symphony, SIEMENS, 1.5 Т\n",
    "3 - Panorama, PHILIPS, 1.0 Т\n",
    "4 - None"
   ]
  },
  {
   "cell_type": "code",
   "execution_count": 1,
   "metadata": {},
   "outputs": [],
   "source": [
    "import numpy as np\n",
    "import pandas as pd"
   ]
  },
  {
   "cell_type": "code",
   "execution_count": 60,
   "metadata": {},
   "outputs": [
    {
     "data": {
      "text/html": [
       "<div>\n",
       "<style scoped>\n",
       "    .dataframe tbody tr th:only-of-type {\n",
       "        vertical-align: middle;\n",
       "    }\n",
       "\n",
       "    .dataframe tbody tr th {\n",
       "        vertical-align: top;\n",
       "    }\n",
       "\n",
       "    .dataframe thead th {\n",
       "        text-align: right;\n",
       "    }\n",
       "</style>\n",
       "<table border=\"1\" class=\"dataframe\">\n",
       "  <thead>\n",
       "    <tr style=\"text-align: right;\">\n",
       "      <th></th>\n",
       "      <th>id</th>\n",
       "      <th>text</th>\n",
       "      <th>conclusion</th>\n",
       "      <th>label</th>\n",
       "    </tr>\n",
       "  </thead>\n",
       "  <tbody>\n",
       "    <tr>\n",
       "      <th>0</th>\n",
       "      <td>01_414</td>\n",
       "      <td>МАГНИТНО-РЕЗОНАНСНАЯ  ТОМОГРАФИЯ ГОЛОВНОГО МОЗ...</td>\n",
       "      <td>ЗАКЛЮЧЕНИЕ:  МРТ-данные соответствуют изменени...</td>\n",
       "      <td>ms</td>\n",
       "    </tr>\n",
       "    <tr>\n",
       "      <th>1</th>\n",
       "      <td>01_344</td>\n",
       "      <td>МАГНИТНО-РЕЗОНАНСНАЯ  ТОМОГРАФИЯ ГОЛОВНОГО МОЗ...</td>\n",
       "      <td>ЗАКЛЮЧЕНИЕ: МРТ данные, вероятнее всего, соотв...</td>\n",
       "      <td>ms</td>\n",
       "    </tr>\n",
       "    <tr>\n",
       "      <th>2</th>\n",
       "      <td>01_316</td>\n",
       "      <td>МАГНИТНО-РЕЗОНАНСНАЯ ТОМОГРАФИЯ ГОЛОВНОГО МОЗГ...</td>\n",
       "      <td>ЗАКЛЮЧЕНИЕ: МРТ-данные соответствуют, вероятне...</td>\n",
       "      <td>ms</td>\n",
       "    </tr>\n",
       "  </tbody>\n",
       "</table>\n",
       "</div>"
      ],
      "text/plain": [
       "       id                                               text  \\\n",
       "0  01_414  МАГНИТНО-РЕЗОНАНСНАЯ  ТОМОГРАФИЯ ГОЛОВНОГО МОЗ...   \n",
       "1  01_344  МАГНИТНО-РЕЗОНАНСНАЯ  ТОМОГРАФИЯ ГОЛОВНОГО МОЗ...   \n",
       "2  01_316  МАГНИТНО-РЕЗОНАНСНАЯ ТОМОГРАФИЯ ГОЛОВНОГО МОЗГ...   \n",
       "\n",
       "                                          conclusion label  \n",
       "0  ЗАКЛЮЧЕНИЕ:  МРТ-данные соответствуют изменени...    ms  \n",
       "1  ЗАКЛЮЧЕНИЕ: МРТ данные, вероятнее всего, соотв...    ms  \n",
       "2  ЗАКЛЮЧЕНИЕ: МРТ-данные соответствуют, вероятне...    ms  "
      ]
     },
     "execution_count": 60,
     "metadata": {},
     "output_type": "execute_result"
    }
   ],
   "source": [
    "data = pd.read_csv('/notebook/MS_trainset_anon_csv/reports.csv', sep = '|')\n",
    "data.head(3)"
   ]
  },
  {
   "cell_type": "code",
   "execution_count": 39,
   "metadata": {},
   "outputs": [
    {
     "data": {
      "text/plain": [
       "ms       147\n",
       "none     130\n",
       "other     20\n",
       "Name: label, dtype: int64"
      ]
     },
     "execution_count": 39,
     "metadata": {},
     "output_type": "execute_result"
    }
   ],
   "source": [
    "data.label.value_counts()"
   ]
  },
  {
   "cell_type": "code",
   "execution_count": 40,
   "metadata": {},
   "outputs": [
    {
     "data": {
      "text/plain": [
       "(297, 4)"
      ]
     },
     "execution_count": 40,
     "metadata": {},
     "output_type": "execute_result"
    }
   ],
   "source": [
    "data.shape"
   ]
  },
  {
   "cell_type": "code",
   "execution_count": 73,
   "metadata": {},
   "outputs": [],
   "source": [
    "data['model'] = data.apply(lambda row: row.text[row.text.find('(')+1 : row.text.find(')')], axis = 1) "
   ]
  },
  {
   "cell_type": "code",
   "execution_count": 74,
   "metadata": {},
   "outputs": [],
   "source": [
    "model_code = []\n",
    "for i in data['model']:\n",
    "    if i == 'Magnetom Verio, SIEMENS, 3 T' or i == 'Magnetom Verio, SIEMENS, 3 Т':\n",
    "        model_code.append(0)\n",
    "    elif i == 'Magnetom Avanto, SIEMENS, 1,5 Т' or i == 'Magnetom Avanto, SIEMENS, 1.5 Т' or i == 'Magnetom Avanto, SIEMENS, 1.5 T' or i == 'Magnetom Avanto, SIEMENS 1,5 T' or i == 'Magnetom Avanto, SIEMENS, 1,5 T' or i == 'Siemens MAGNETOM Avanto, 1,5T':\n",
    "        model_code.append(1)\n",
    "    elif i == 'Magnetom Symphony, SIEMENS, 1.5 Т' or i == 'Magnetom Symphony, SIEMENS, 1,5 Т':\n",
    "        model_code.append(2)\n",
    "    elif i == 'Panorama, PHILIPS, 1.0 Т':\n",
    "        model_code.append(3)\n",
    "    elif i == 'Гадовист 7,5':\n",
    "        model_code.append(4)"
   ]
  },
  {
   "cell_type": "code",
   "execution_count": 75,
   "metadata": {},
   "outputs": [],
   "source": [
    "data['model_code'] = model_code"
   ]
  },
  {
   "cell_type": "code",
   "execution_count": 76,
   "metadata": {},
   "outputs": [
    {
     "data": {
      "text/plain": [
       "0    149\n",
       "1    138\n",
       "2      7\n",
       "3      2\n",
       "4      1\n",
       "Name: model_code, dtype: int64"
      ]
     },
     "execution_count": 76,
     "metadata": {},
     "output_type": "execute_result"
    }
   ],
   "source": [
    "data['model_code'].value_counts()"
   ]
  },
  {
   "cell_type": "markdown",
   "metadata": {},
   "source": [
    "# Data preperation"
   ]
  },
  {
   "cell_type": "code",
   "execution_count": 52,
   "metadata": {},
   "outputs": [],
   "source": [
    "from nltk.stem import SnowballStemmer\n",
    "snowball_stemmer = SnowballStemmer('russian')\n",
    "from nltk import word_tokenize, FreqDist\n",
    "import string\n",
    "punc = str.maketrans({key: None for key in '!\"#$%&\\'()*+,-./:;<=>?@[\\\\]^_`{|}~”„–'})"
   ]
  },
  {
   "cell_type": "code",
   "execution_count": 47,
   "metadata": {},
   "outputs": [],
   "source": [
    "def stemmer_func(row):\n",
    "    tmp = []\n",
    "    for i in row:\n",
    "        tmp.append(snowball_stemmer.stem(i))\n",
    "    return tmp"
   ]
  },
  {
   "cell_type": "code",
   "execution_count": 48,
   "metadata": {},
   "outputs": [],
   "source": [
    "def alphas(row):\n",
    "    tmp = []\n",
    "    for i in row:\n",
    "        if str.isalpha(i):\n",
    "            tmp.append(i)\n",
    "    return tmp"
   ]
  },
  {
   "cell_type": "code",
   "execution_count": 66,
   "metadata": {},
   "outputs": [],
   "source": [
    "#data['splt'] = data.apply(lambda row: (row.text + ' ' + row.conclusion).translate(punc).lower().split(),  axis=1) \n",
    "data['splt'] = data.apply(lambda row: row.conclusion.translate(punc).lower().split(),  axis=1) "
   ]
  },
  {
   "cell_type": "code",
   "execution_count": 67,
   "metadata": {},
   "outputs": [],
   "source": [
    "data['splt'] = data.apply(lambda row: alphas(row.splt), axis = 1)"
   ]
  },
  {
   "cell_type": "code",
   "execution_count": 68,
   "metadata": {},
   "outputs": [],
   "source": [
    "data['splt'] = data.apply(lambda row: stemmer_func(row.splt), axis = 1)"
   ]
  },
  {
   "cell_type": "code",
   "execution_count": 77,
   "metadata": {},
   "outputs": [],
   "source": [
    "data = data[['id', 'label', 'model_code', 'splt']]"
   ]
  },
  {
   "cell_type": "code",
   "execution_count": 70,
   "metadata": {},
   "outputs": [],
   "source": [
    "tokens = []\n",
    "for i in range(data.shape[0]):\n",
    "    for j in data.splt[i]:\n",
    "        tokens.append(j)"
   ]
  },
  {
   "cell_type": "code",
   "execution_count": 71,
   "metadata": {},
   "outputs": [],
   "source": [
    "fdist = FreqDist(tokens)"
   ]
  },
  {
   "cell_type": "code",
   "execution_count": 72,
   "metadata": {},
   "outputs": [
    {
     "data": {
      "text/plain": [
       "233"
      ]
     },
     "execution_count": 72,
     "metadata": {},
     "output_type": "execute_result"
    }
   ],
   "source": [
    "len(fdist)"
   ]
  },
  {
   "cell_type": "code",
   "execution_count": 87,
   "metadata": {},
   "outputs": [],
   "source": [
    "def one_hot_encoder(data, fdist):\n",
    "    for i in fdist.keys():\n",
    "        data[i] = data.apply(lambda row: row.splt.count(i), axis = 1)"
   ]
  },
  {
   "cell_type": "code",
   "execution_count": 88,
   "metadata": {},
   "outputs": [],
   "source": [
    "one_hot_encoder(data, fdist)"
   ]
  },
  {
   "cell_type": "code",
   "execution_count": 93,
   "metadata": {},
   "outputs": [
    {
     "data": {
      "text/html": [
       "<div>\n",
       "<style scoped>\n",
       "    .dataframe tbody tr th:only-of-type {\n",
       "        vertical-align: middle;\n",
       "    }\n",
       "\n",
       "    .dataframe tbody tr th {\n",
       "        vertical-align: top;\n",
       "    }\n",
       "\n",
       "    .dataframe thead th {\n",
       "        text-align: right;\n",
       "    }\n",
       "</style>\n",
       "<table border=\"1\" class=\"dataframe\">\n",
       "  <thead>\n",
       "    <tr style=\"text-align: right;\">\n",
       "      <th></th>\n",
       "      <th>id</th>\n",
       "      <th>label</th>\n",
       "      <th>model_code</th>\n",
       "      <th>заключен</th>\n",
       "      <th>мртдан</th>\n",
       "      <th>соответств</th>\n",
       "      <th>изменен</th>\n",
       "      <th>в</th>\n",
       "      <th>обо</th>\n",
       "      <th>полушар</th>\n",
       "      <th>...</th>\n",
       "      <th>месяц</th>\n",
       "      <th>мрпризнак</th>\n",
       "      <th>оториноларинголог</th>\n",
       "      <th>менингиом</th>\n",
       "      <th>случайн</th>\n",
       "      <th>находк</th>\n",
       "      <th>гормональн</th>\n",
       "      <th>статус</th>\n",
       "      <th>кров</th>\n",
       "      <th>лорспециалист</th>\n",
       "    </tr>\n",
       "  </thead>\n",
       "  <tbody>\n",
       "    <tr>\n",
       "      <th>0</th>\n",
       "      <td>01_414</td>\n",
       "      <td>ms</td>\n",
       "      <td>1</td>\n",
       "      <td>1</td>\n",
       "      <td>1</td>\n",
       "      <td>1</td>\n",
       "      <td>1</td>\n",
       "      <td>1</td>\n",
       "      <td>1</td>\n",
       "      <td>1</td>\n",
       "      <td>...</td>\n",
       "      <td>0</td>\n",
       "      <td>0</td>\n",
       "      <td>0</td>\n",
       "      <td>0</td>\n",
       "      <td>0</td>\n",
       "      <td>0</td>\n",
       "      <td>0</td>\n",
       "      <td>0</td>\n",
       "      <td>0</td>\n",
       "      <td>0</td>\n",
       "    </tr>\n",
       "    <tr>\n",
       "      <th>1</th>\n",
       "      <td>01_344</td>\n",
       "      <td>ms</td>\n",
       "      <td>1</td>\n",
       "      <td>1</td>\n",
       "      <td>0</td>\n",
       "      <td>1</td>\n",
       "      <td>0</td>\n",
       "      <td>0</td>\n",
       "      <td>0</td>\n",
       "      <td>0</td>\n",
       "      <td>...</td>\n",
       "      <td>0</td>\n",
       "      <td>0</td>\n",
       "      <td>0</td>\n",
       "      <td>0</td>\n",
       "      <td>0</td>\n",
       "      <td>0</td>\n",
       "      <td>0</td>\n",
       "      <td>0</td>\n",
       "      <td>0</td>\n",
       "      <td>0</td>\n",
       "    </tr>\n",
       "    <tr>\n",
       "      <th>2</th>\n",
       "      <td>01_316</td>\n",
       "      <td>ms</td>\n",
       "      <td>1</td>\n",
       "      <td>1</td>\n",
       "      <td>1</td>\n",
       "      <td>1</td>\n",
       "      <td>0</td>\n",
       "      <td>0</td>\n",
       "      <td>0</td>\n",
       "      <td>0</td>\n",
       "      <td>...</td>\n",
       "      <td>0</td>\n",
       "      <td>0</td>\n",
       "      <td>0</td>\n",
       "      <td>0</td>\n",
       "      <td>0</td>\n",
       "      <td>0</td>\n",
       "      <td>0</td>\n",
       "      <td>0</td>\n",
       "      <td>0</td>\n",
       "      <td>0</td>\n",
       "    </tr>\n",
       "  </tbody>\n",
       "</table>\n",
       "<p>3 rows × 236 columns</p>\n",
       "</div>"
      ],
      "text/plain": [
       "       id label  model_code  заключен  мртдан  соответств  изменен  в  обо  \\\n",
       "0  01_414    ms           1         1       1           1        1  1    1   \n",
       "1  01_344    ms           1         1       0           1        0  0    0   \n",
       "2  01_316    ms           1         1       1           1        0  0    0   \n",
       "\n",
       "   полушар      ...        месяц  мрпризнак  оториноларинголог  менингиом  \\\n",
       "0        1      ...            0          0                  0          0   \n",
       "1        0      ...            0          0                  0          0   \n",
       "2        0      ...            0          0                  0          0   \n",
       "\n",
       "   случайн  находк  гормональн  статус  кров  лорспециалист  \n",
       "0        0       0           0       0     0              0  \n",
       "1        0       0           0       0     0              0  \n",
       "2        0       0           0       0     0              0  \n",
       "\n",
       "[3 rows x 236 columns]"
      ]
     },
     "execution_count": 93,
     "metadata": {},
     "output_type": "execute_result"
    }
   ],
   "source": [
    "data = data.drop(['splt'], axis = 1)\n",
    "data.head(3)"
   ]
  },
  {
   "cell_type": "code",
   "execution_count": 94,
   "metadata": {},
   "outputs": [],
   "source": [
    "data.to_csv('/notebook/MS_trainset_anon_csv/one_hot_encoder.csv', sep=',', header=True, index=False, encoding='utf-8')"
   ]
  },
  {
   "cell_type": "code",
   "execution_count": 26,
   "metadata": {},
   "outputs": [],
   "source": []
  },
  {
   "cell_type": "code",
   "execution_count": 107,
   "metadata": {},
   "outputs": [],
   "source": []
  },
  {
   "cell_type": "code",
   "execution_count": 62,
   "metadata": {},
   "outputs": [],
   "source": []
  },
  {
   "cell_type": "code",
   "execution_count": null,
   "metadata": {},
   "outputs": [],
   "source": []
  }
 ],
 "metadata": {
  "kernelspec": {
   "display_name": "Python 3",
   "language": "python",
   "name": "python3"
  },
  "language_info": {
   "codemirror_mode": {
    "name": "ipython",
    "version": 3
   },
   "file_extension": ".py",
   "mimetype": "text/x-python",
   "name": "python",
   "nbconvert_exporter": "python",
   "pygments_lexer": "ipython3",
   "version": "3.6.7"
  }
 },
 "nbformat": 4,
 "nbformat_minor": 2
}
