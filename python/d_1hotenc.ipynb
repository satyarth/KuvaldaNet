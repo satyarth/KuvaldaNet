{
 "cells": [
  {
   "cell_type": "markdown",
   "metadata": {},
   "source": [
    "Dictionary by hand:\n",
    "0 - Magnetom Verio, SIEMENS, 3 T\n",
    "1 - Magnetom Avanto, SIEMENS, 1,5 Т \n",
    "    Siemens MAGNETOM Avanto, 1,5T\n",
    "2 - Magnetom Symphony, SIEMENS, 1.5 Т\n",
    "3 - Panorama, PHILIPS, 1.0 Т\n",
    "4 - None"
   ]
  },
  {
   "cell_type": "code",
   "execution_count": 1,
   "metadata": {},
   "outputs": [],
   "source": [
    "import numpy as np\n",
    "import pandas as pd"
   ]
  },
  {
   "cell_type": "code",
   "execution_count": 2,
   "metadata": {},
   "outputs": [
    {
     "data": {
      "text/html": [
       "<div>\n",
       "<style scoped>\n",
       "    .dataframe tbody tr th:only-of-type {\n",
       "        vertical-align: middle;\n",
       "    }\n",
       "\n",
       "    .dataframe tbody tr th {\n",
       "        vertical-align: top;\n",
       "    }\n",
       "\n",
       "    .dataframe thead th {\n",
       "        text-align: right;\n",
       "    }\n",
       "</style>\n",
       "<table border=\"1\" class=\"dataframe\">\n",
       "  <thead>\n",
       "    <tr style=\"text-align: right;\">\n",
       "      <th></th>\n",
       "      <th>id</th>\n",
       "      <th>text</th>\n",
       "      <th>conclusion</th>\n",
       "      <th>label</th>\n",
       "    </tr>\n",
       "  </thead>\n",
       "  <tbody>\n",
       "    <tr>\n",
       "      <th>0</th>\n",
       "      <td>01_414</td>\n",
       "      <td>МАГНИТНО-РЕЗОНАНСНАЯ  ТОМОГРАФИЯ ГОЛОВНОГО МОЗ...</td>\n",
       "      <td>ЗАКЛЮЧЕНИЕ:  МРТ-данные соответствуют изменени...</td>\n",
       "      <td>ms</td>\n",
       "    </tr>\n",
       "    <tr>\n",
       "      <th>1</th>\n",
       "      <td>01_344</td>\n",
       "      <td>МАГНИТНО-РЕЗОНАНСНАЯ  ТОМОГРАФИЯ ГОЛОВНОГО МОЗ...</td>\n",
       "      <td>ЗАКЛЮЧЕНИЕ: МРТ данные, вероятнее всего, соотв...</td>\n",
       "      <td>ms</td>\n",
       "    </tr>\n",
       "    <tr>\n",
       "      <th>2</th>\n",
       "      <td>01_316</td>\n",
       "      <td>МАГНИТНО-РЕЗОНАНСНАЯ ТОМОГРАФИЯ ГОЛОВНОГО МОЗГ...</td>\n",
       "      <td>ЗАКЛЮЧЕНИЕ: МРТ-данные соответствуют, вероятне...</td>\n",
       "      <td>ms</td>\n",
       "    </tr>\n",
       "    <tr>\n",
       "      <th>3</th>\n",
       "      <td>01_294</td>\n",
       "      <td>МАГНИТНО-РЕЗОНАНСНАЯ ТОМОГРАФИЯ ГОЛОВНОГО МОЗГ...</td>\n",
       "      <td>ЗАКЛЮЧЕНИЕ: МРТ-данные соответствуют  демиелин...</td>\n",
       "      <td>ms</td>\n",
       "    </tr>\n",
       "    <tr>\n",
       "      <th>4</th>\n",
       "      <td>01_196</td>\n",
       "      <td>МАГНИТНО-РЕЗОНАНСНАЯ ТОМОГРАФИЯ ГОЛОВНОГО МОЗГ...</td>\n",
       "      <td>ЗАКЛЮЧЕНИЕ: МРТ данные, вероятнее всего, соотв...</td>\n",
       "      <td>ms</td>\n",
       "    </tr>\n",
       "  </tbody>\n",
       "</table>\n",
       "</div>"
      ],
      "text/plain": [
       "       id                                               text  \\\n",
       "0  01_414  МАГНИТНО-РЕЗОНАНСНАЯ  ТОМОГРАФИЯ ГОЛОВНОГО МОЗ...   \n",
       "1  01_344  МАГНИТНО-РЕЗОНАНСНАЯ  ТОМОГРАФИЯ ГОЛОВНОГО МОЗ...   \n",
       "2  01_316  МАГНИТНО-РЕЗОНАНСНАЯ ТОМОГРАФИЯ ГОЛОВНОГО МОЗГ...   \n",
       "3  01_294  МАГНИТНО-РЕЗОНАНСНАЯ ТОМОГРАФИЯ ГОЛОВНОГО МОЗГ...   \n",
       "4  01_196  МАГНИТНО-РЕЗОНАНСНАЯ ТОМОГРАФИЯ ГОЛОВНОГО МОЗГ...   \n",
       "\n",
       "                                          conclusion label  \n",
       "0  ЗАКЛЮЧЕНИЕ:  МРТ-данные соответствуют изменени...    ms  \n",
       "1  ЗАКЛЮЧЕНИЕ: МРТ данные, вероятнее всего, соотв...    ms  \n",
       "2  ЗАКЛЮЧЕНИЕ: МРТ-данные соответствуют, вероятне...    ms  \n",
       "3  ЗАКЛЮЧЕНИЕ: МРТ-данные соответствуют  демиелин...    ms  \n",
       "4  ЗАКЛЮЧЕНИЕ: МРТ данные, вероятнее всего, соотв...    ms  "
      ]
     },
     "execution_count": 2,
     "metadata": {},
     "output_type": "execute_result"
    }
   ],
   "source": [
    "data = pd.read_csv('/notebook/MS_trainset_anon_csv/reports.csv', sep = '|')\n",
    "data.head()"
   ]
  },
  {
   "cell_type": "code",
   "execution_count": 7,
   "metadata": {},
   "outputs": [
    {
     "data": {
      "text/plain": [
       "ms       147\n",
       "none     130\n",
       "other     20\n",
       "Name: label, dtype: int64"
      ]
     },
     "execution_count": 7,
     "metadata": {},
     "output_type": "execute_result"
    }
   ],
   "source": [
    "data.label.value_counts()"
   ]
  },
  {
   "cell_type": "code",
   "execution_count": 12,
   "metadata": {},
   "outputs": [
    {
     "data": {
      "text/plain": [
       "(297, 5)"
      ]
     },
     "execution_count": 12,
     "metadata": {},
     "output_type": "execute_result"
    }
   ],
   "source": [
    "data.shape"
   ]
  },
  {
   "cell_type": "code",
   "execution_count": 103,
   "metadata": {},
   "outputs": [],
   "source": [
    "data['label'] = data.apply(lambda row: 1 if row.label == 'ms' else 0, axis = 1)"
   ]
  },
  {
   "cell_type": "code",
   "execution_count": 13,
   "metadata": {},
   "outputs": [],
   "source": [
    "data['model'] = data.apply(lambda row: row.text[row.text.find('(')+1 : row.text.find(')')], axis = 1) "
   ]
  },
  {
   "cell_type": "code",
   "execution_count": 39,
   "metadata": {},
   "outputs": [
    {
     "data": {
      "text/plain": [
       "Magnetom Verio, SIEMENS, 3 T         148\n",
       "Magnetom Avanto, SIEMENS, 1,5 Т       76\n",
       "Magnetom Avanto, SIEMENS, 1.5 Т       30\n",
       "Magnetom Avanto, SIEMENS, 1.5 T       25\n",
       "Siemens MAGNETOM Avanto, 1,5T          4\n",
       "Magnetom Symphony, SIEMENS, 1.5 Т      4\n",
       "Magnetom Symphony, SIEMENS, 1,5 Т      3\n",
       "Panorama, PHILIPS, 1.0 Т               2\n",
       "Magnetom Avanto, SIEMENS 1,5 T         2\n",
       "Гадовист 7,5                           1\n",
       "Magnetom Avanto, SIEMENS, 1,5 T        1\n",
       "Magnetom Verio, SIEMENS, 3 Т           1\n",
       "Name: model, dtype: int64"
      ]
     },
     "execution_count": 39,
     "metadata": {},
     "output_type": "execute_result"
    }
   ],
   "source": [
    "data.model.value_counts()"
   ]
  },
  {
   "cell_type": "code",
   "execution_count": 14,
   "metadata": {},
   "outputs": [],
   "source": [
    "model_code = []\n",
    "for i in data['model']:\n",
    "    if i == 'Magnetom Verio, SIEMENS, 3 T' or i == 'Magnetom Verio, SIEMENS, 3 Т':\n",
    "        model_code.append(0)\n",
    "    elif i == 'Magnetom Avanto, SIEMENS, 1,5 Т' or i == 'Magnetom Avanto, SIEMENS, 1.5 Т' or i == 'Magnetom Avanto, SIEMENS, 1.5 T' or i == 'Magnetom Avanto, SIEMENS 1,5 T' or i == 'Magnetom Avanto, SIEMENS, 1,5 T' or i == 'Siemens MAGNETOM Avanto, 1,5T':\n",
    "        model_code.append(1)\n",
    "    elif i == 'Magnetom Symphony, SIEMENS, 1.5 Т' or i == 'Magnetom Symphony, SIEMENS, 1,5 Т':\n",
    "        model_code.append(2)\n",
    "    elif i == 'Panorama, PHILIPS, 1.0 Т':\n",
    "        model_code.append(3)\n",
    "    elif i == 'Гадовист 7,5':\n",
    "        model_code.append(4)"
   ]
  },
  {
   "cell_type": "code",
   "execution_count": 15,
   "metadata": {},
   "outputs": [],
   "source": [
    "data['model_code'] = model_code"
   ]
  },
  {
   "cell_type": "code",
   "execution_count": 16,
   "metadata": {},
   "outputs": [
    {
     "data": {
      "text/plain": [
       "0    149\n",
       "1    138\n",
       "2      7\n",
       "3      2\n",
       "4      1\n",
       "Name: model_code, dtype: int64"
      ]
     },
     "execution_count": 16,
     "metadata": {},
     "output_type": "execute_result"
    }
   ],
   "source": [
    "data['model_code'].value_counts()"
   ]
  },
  {
   "cell_type": "code",
   "execution_count": 82,
   "metadata": {},
   "outputs": [],
   "source": [
    "concl_text_ms, concl_text_other, concl_text_none = '', '', ''\n",
    "for i in data['text'][data.label == 'ms'].index:\n",
    "    concl_text_ms += data['conclusion'][i]\n",
    "\n",
    "for i in data['text'][data.label == 'none'].index:\n",
    "    concl_text_none += data['conclusion'][i]\n",
    "\n",
    "for i in data['text'][data.label == 'other'].index:\n",
    "    concl_text_other += data['conclusion'][i]"
   ]
  },
  {
   "cell_type": "code",
   "execution_count": 59,
   "metadata": {},
   "outputs": [],
   "source": [
    "from rutermextract import TermExtractor"
   ]
  },
  {
   "cell_type": "code",
   "execution_count": 67,
   "metadata": {},
   "outputs": [],
   "source": [
    "term_extractor = TermExtractor()"
   ]
  },
  {
   "cell_type": "code",
   "execution_count": 84,
   "metadata": {},
   "outputs": [
    {
     "name": "stdout",
     "output_type": "stream",
     "text": [
      "заключение 147\n",
      "демиелинизирующий процесс 141\n",
      "головной мозг 100\n",
      "большое мозг 12\n",
      "спинной мозг 10\n",
      "оба полушариях 7\n",
      "левый полушарие 5\n",
      "демиелинизирующий характер 5\n",
      "признаки 5\n",
      "венозная ангиома 4\n"
     ]
    }
   ],
   "source": [
    "for term in term_extractor(concl_text_ms, limit = 10):\n",
    "    print (term.normalized, term.count)"
   ]
  },
  {
   "cell_type": "code",
   "execution_count": 85,
   "metadata": {},
   "outputs": [
    {
     "name": "stdout",
     "output_type": "stream",
     "text": [
      "исследование 131\n",
      "очаговая патология 130\n",
      "головной мозг 130\n",
      "заключение 130\n",
      "признаки 3\n",
      "турецкий седло 2\n",
      "выявленные изменение 2\n",
      "выраженная вентрикуломегалия 2\n",
      "внутренняя гидроцефалия 2\n",
      "киста 2\n"
     ]
    }
   ],
   "source": [
    "for term in term_extractor(concl_text_none, limit = 10):\n",
    "    print (term.normalized, term.count)"
   ]
  },
  {
   "cell_type": "code",
   "execution_count": 86,
   "metadata": {},
   "outputs": [
    {
     "name": "stdout",
     "output_type": "stream",
     "text": [
      "заключение 19\n",
      "большое мозг 8\n",
      "мрт-исследование 6\n",
      "сосудистый генез 5\n",
      "головной мозг 5\n",
      "оба полушариях 4\n",
      "очаги 4\n",
      "исследование 4\n",
      "право 3\n",
      "полушарие 3\n"
     ]
    }
   ],
   "source": [
    "for term in term_extractor(concl_text_other, limit = 10):\n",
    "    print (term.normalized, term.count)"
   ]
  },
  {
   "cell_type": "code",
   "execution_count": 3,
   "metadata": {},
   "outputs": [],
   "source": [
    "import string\n",
    "punc = str.maketrans({key: None for key in '!\"#$%&\\'()*+,-./:;<=>?@[\\\\]^_`{|}~”„–'})"
   ]
  },
  {
   "cell_type": "code",
   "execution_count": 4,
   "metadata": {},
   "outputs": [],
   "source": [
    "data['splt'] = data.apply(lambda row: row.conclusion.translate(punc).lower().split(),  axis=1) "
   ]
  },
  {
   "cell_type": "code",
   "execution_count": 24,
   "metadata": {},
   "outputs": [],
   "source": [
    "data = data[['id', 'label', 'splt', 'model_code']]"
   ]
  },
  {
   "cell_type": "code",
   "execution_count": 25,
   "metadata": {},
   "outputs": [
    {
     "data": {
      "text/html": [
       "<div>\n",
       "<style scoped>\n",
       "    .dataframe tbody tr th:only-of-type {\n",
       "        vertical-align: middle;\n",
       "    }\n",
       "\n",
       "    .dataframe tbody tr th {\n",
       "        vertical-align: top;\n",
       "    }\n",
       "\n",
       "    .dataframe thead th {\n",
       "        text-align: right;\n",
       "    }\n",
       "</style>\n",
       "<table border=\"1\" class=\"dataframe\">\n",
       "  <thead>\n",
       "    <tr style=\"text-align: right;\">\n",
       "      <th></th>\n",
       "      <th>id</th>\n",
       "      <th>label</th>\n",
       "      <th>splt</th>\n",
       "      <th>model_code</th>\n",
       "    </tr>\n",
       "  </thead>\n",
       "  <tbody>\n",
       "    <tr>\n",
       "      <th>0</th>\n",
       "      <td>01_414</td>\n",
       "      <td>ms</td>\n",
       "      <td>[заключение, мртданные, соответствуют, изменен...</td>\n",
       "      <td>1</td>\n",
       "    </tr>\n",
       "    <tr>\n",
       "      <th>1</th>\n",
       "      <td>01_344</td>\n",
       "      <td>ms</td>\n",
       "      <td>[заключение, мрт, данные, вероятнее, всего, со...</td>\n",
       "      <td>1</td>\n",
       "    </tr>\n",
       "    <tr>\n",
       "      <th>2</th>\n",
       "      <td>01_316</td>\n",
       "      <td>ms</td>\n",
       "      <td>[заключение, мртданные, соответствуют, вероятн...</td>\n",
       "      <td>1</td>\n",
       "    </tr>\n",
       "    <tr>\n",
       "      <th>3</th>\n",
       "      <td>01_294</td>\n",
       "      <td>ms</td>\n",
       "      <td>[заключение, мртданные, соответствуют, демиели...</td>\n",
       "      <td>1</td>\n",
       "    </tr>\n",
       "    <tr>\n",
       "      <th>4</th>\n",
       "      <td>01_196</td>\n",
       "      <td>ms</td>\n",
       "      <td>[заключение, мрт, данные, вероятнее, всего, со...</td>\n",
       "      <td>1</td>\n",
       "    </tr>\n",
       "  </tbody>\n",
       "</table>\n",
       "</div>"
      ],
      "text/plain": [
       "       id label                                               splt  model_code\n",
       "0  01_414    ms  [заключение, мртданные, соответствуют, изменен...           1\n",
       "1  01_344    ms  [заключение, мрт, данные, вероятнее, всего, со...           1\n",
       "2  01_316    ms  [заключение, мртданные, соответствуют, вероятн...           1\n",
       "3  01_294    ms  [заключение, мртданные, соответствуют, демиели...           1\n",
       "4  01_196    ms  [заключение, мрт, данные, вероятнее, всего, со...           1"
      ]
     },
     "execution_count": 25,
     "metadata": {},
     "output_type": "execute_result"
    }
   ],
   "source": [
    "data.head()"
   ]
  },
  {
   "cell_type": "code",
   "execution_count": 6,
   "metadata": {},
   "outputs": [],
   "source": [
    "def alphas(row):\n",
    "    tmp = []\n",
    "    for i in row:\n",
    "        if str.isalpha(i):\n",
    "            tmp.append(i)\n",
    "    return tmp"
   ]
  },
  {
   "cell_type": "code",
   "execution_count": 7,
   "metadata": {},
   "outputs": [],
   "source": [
    "data['splt'] = data.apply(lambda row: alphas(row.splt), axis = 1)"
   ]
  },
  {
   "cell_type": "code",
   "execution_count": 116,
   "metadata": {},
   "outputs": [],
   "source": [
    "data.to_csv('/notebook/MS_trainset_anon_csv/reports_mode.csv', sep=',', header=True, index=False, encoding='utf-8')"
   ]
  },
  {
   "cell_type": "code",
   "execution_count": 26,
   "metadata": {},
   "outputs": [],
   "source": [
    "import gensim\n",
    "from nltk import word_tokenize, FreqDist"
   ]
  },
  {
   "cell_type": "code",
   "execution_count": 27,
   "metadata": {},
   "outputs": [],
   "source": [
    "tokens = []\n",
    "for i in range(data.shape[0]):\n",
    "    for j in data.splt[i]:\n",
    "        tokens.append(j)"
   ]
  },
  {
   "cell_type": "code",
   "execution_count": 28,
   "metadata": {},
   "outputs": [],
   "source": [
    "fdist = FreqDist(tokens)"
   ]
  },
  {
   "cell_type": "code",
   "execution_count": 29,
   "metadata": {},
   "outputs": [
    {
     "data": {
      "text/plain": [
       "315"
      ]
     },
     "execution_count": 29,
     "metadata": {},
     "output_type": "execute_result"
    }
   ],
   "source": [
    "len(fdist)"
   ]
  },
  {
   "cell_type": "code",
   "execution_count": null,
   "metadata": {},
   "outputs": [],
   "source": [
    "def one_hot_encoder(data, fdist):\n",
    "    for i in fdist.keys():\n",
    "        data[i] = data.apply(lam)\n",
    "    \n",
    "    "
   ]
  },
  {
   "cell_type": "code",
   "execution_count": 35,
   "metadata": {},
   "outputs": [
    {
     "data": {
      "text/plain": [
       "dict_keys(['заключение', 'мртданные', 'соответствуют', 'изменениям', 'в', 'обоих', 'полушариях', 'головного', 'мозга', 'вероятнее', 'всего', 'демиелинизирующего', 'характера', 'мрт', 'данные', 'демиелинизирующему', 'процессу', 'и', 'спинного', 'венозная', 'ангиома', 'левом', 'полушарии', 'большого', 'очаговому', 'поражению', 'вещества', 'не', 'совсем', 'ясного', 'генеза', 'могут', 'соответствовать', 'признаки', 'арахноидальной', 'кисты', 'левой', 'височной', 'области', 'нельзя', 'исключить', 'вариант', 'бало', 'небольшой', 'на', 'конвекситальной', 'поверхности', 'правой', 'лобной', 'доли', 'киста', 'шишковидной', 'железы', 'очагу', 'правом', 'более', 'вероятно', 'характерному', 'для', 'процесса', 'смешанной', 'гидроцефалии', 'мртпризнаки', 'пансинусита', 'очаговым', 'полушарий', 'с', 'учетом', 'изменений', 'веществе', 'выявленные', 'особенности', 'строения', 'гипофиза', 'варианту', 'или', 'быть', 'косвенным', 'признаком', 'микроаденомы', 'целесообразна', 'консультация', 'эндокринолога', 'данных', 'за', 'патологию', 'получено', 'очагам', 'сосудистого', 'критерии', 'макдональда', 'удовлетворяются', 'диссеминация', 'во', 'времени', 'доказана', 'нет', 'постконтрастного', 'усиления', 'выявленных', 'очагов', 'динамики', 'года', 'наблюдения', 'хронического', 'пансинуита', 'уточнения', 'вблизи', 'валика', 'мозолистого', 'тела', 'рекомендовано', 'проведение', 'контрастным', 'усилением', 'спинном', 'мозге', 'полученные', 'мрданные', 'острый', 'рассеянный', 'энцефаломиелит', 'многоочаговому', 'по', 'сравнению', 'предыдущим', 'исследованием', 'августа', 'без', 'последствия', 'орэм', 'атипичный', 'склероз', 'арахноидальная', 'балло', 'подобными', 'очагами', 'локализация', 'размеры', 'форма', 'характерны', 'однако', 'учитывая', 'наличие', 'грудном', 'отделе', 'окончательно', 'его', 'представляется', 'возможным', 'верхнечелюстной', 'пазухе', 'при', 'наличии', 'клинической', 'симптоматики', 'правостороннего', 'гайморита', 'объемному', 'образованию', 'менигиома', 'изменения', 'мозжечка', 'ствола', 'характерные', 'мелкая', 'слабо', 'выраженной', 'возможно', 'варолиевом', 'мосту', 'которые', 'динамику', 'появление', 'нового', 'очага', 'накапливающего', 'контраст', 'соответствующей', 'интерпретированы', 'как', 'демиелинизирующий', 'процесс', 'кисте', 'доле', 'внутренняя', 'гидроцефалия', 'от', 'марта', 'г', 'очаговые', 'отмечается', 'новых', 'том', 'числе', 'накапливающих', 'контрастное', 'вещество', 'сосудистая', 'мальформация', 'умеренно', 'выраженная', 'смешанная', 'венозной', 'ангиоме', 'сигнальные', 'характеристики', 'локализацию', 'тип', 'накопления', 'контрастного', 'очаговых', 'исследовании', 'очаговой', 'патологии', 'выявлено', 'риносинусита', 'сосудистой', 'мальформации', 'исключения', 'внутренних', 'сонных', 'артерий', 'дообследование', 'мрангиография', 'вентрикуломегалия', 'выявленный', 'единичный', 'очаг', 'следует', 'дифференцировать', 'между', 'посттравматическими', 'сосудистыми', 'изменениями', 'посттравматическиепоствоспалительные', 'сосцевидного', 'отростка', 'кости', 'преимущественно', 'эпифиза', 'рекомендуется', 'мртисследование', 'динамике', 'через', 'год', 'патологические', 'видимых', 'отделов', 'правого', 'тройничного', 'нерва', 'резидального', 'участки', 'незавершённой', 'миелинизации', 'патологических', 'острому', 'тромбозу', 'правых', 'поперечного', 'сигмовидного', 'синусов', 'проксимальных', 'яремной', 'вене', 'заключениемрт', 'шейном', 'характер', 'турецкого', 'седла', 'множественные', 'фибромы', 'мягких', 'тканей', 'головы', 'небольшому', 'гипофизе', 'микроаденома', 'наружняя', 'единичным', 'доброкачественной', 'дистопии', 'миндалин', 'кармана', 'ратке', 'рассматривать', 'нормы', 'венозные', 'ангиомы', 'рекомендована', 'лора', 'мртисследовании', 'патологически', 'расширенное', 'периваскулярное', 'пространство', 'иного', 'месяцев', 'мрпризнаки', 'оториноларинголога', 'небольшое', 'объемное', 'образование', 'менингиома', 'случайная', 'находка', 'признакам', 'исследование', 'гормонального', 'статуса', 'крови', 'пазухи', 'лорспециалиста', 'внутренней'])"
      ]
     },
     "execution_count": 35,
     "metadata": {},
     "output_type": "execute_result"
    }
   ],
   "source": [
    "fdist.keys()"
   ]
  },
  {
   "cell_type": "code",
   "execution_count": 105,
   "metadata": {},
   "outputs": [],
   "source": [
    "data['full_text'] = data.apply(lambda row: row.text + row.conclusion, axis = 1)"
   ]
  },
  {
   "cell_type": "code",
   "execution_count": 106,
   "metadata": {},
   "outputs": [],
   "source": [
    "ms = data.full_text[(data.label == 1)].values\n",
    "none = data.full_text[(data.label == 0)].values"
   ]
  },
  {
   "cell_type": "code",
   "execution_count": 107,
   "metadata": {},
   "outputs": [],
   "source": [
    "texts = np.concatenate((ms, none), axis=0)\n",
    "labels = [1] * len(ms) + [0] * len(none)"
   ]
  },
  {
   "cell_type": "code",
   "execution_count": 110,
   "metadata": {},
   "outputs": [],
   "source": [
    "from sklearn.feature_extraction.text import TfidfTransformer, CountVectorizer, TfidfVectorizer\n",
    "from sklearn.linear_model import LogisticRegression, SGDClassifier\n",
    "from sklearn.svm import LinearSVC\n",
    "from sklearn.model_selection import cross_val_score\n",
    "from sklearn.pipeline import Pipeline"
   ]
  },
  {
   "cell_type": "code",
   "execution_count": 111,
   "metadata": {},
   "outputs": [
    {
     "data": {
      "text/plain": [
       "(297, 1395)"
      ]
     },
     "execution_count": 111,
     "metadata": {},
     "output_type": "execute_result"
    }
   ],
   "source": [
    "count_vect = CountVectorizer()\n",
    "X_train_counts = count_vect.fit_transform(texts)\n",
    "X_train_counts.shape"
   ]
  },
  {
   "cell_type": "code",
   "execution_count": 115,
   "metadata": {},
   "outputs": [
    {
     "name": "stderr",
     "output_type": "stream",
     "text": [
      "/root/.pyenv/versions/3.6.7/lib/python3.6/site-packages/sklearn/linear_model/logistic.py:432: FutureWarning: Default solver will be changed to 'lbfgs' in 0.22. Specify a solver to silence this warning.\n",
      "  FutureWarning)\n"
     ]
    },
    {
     "name": "stdout",
     "output_type": "stream",
     "text": [
      "1.0\n"
     ]
    },
    {
     "name": "stderr",
     "output_type": "stream",
     "text": [
      "/root/.pyenv/versions/3.6.7/lib/python3.6/site-packages/sklearn/linear_model/logistic.py:432: FutureWarning: Default solver will be changed to 'lbfgs' in 0.22. Specify a solver to silence this warning.\n",
      "  FutureWarning)\n"
     ]
    },
    {
     "name": "stdout",
     "output_type": "stream",
     "text": [
      "1.0\n"
     ]
    },
    {
     "name": "stderr",
     "output_type": "stream",
     "text": [
      "/root/.pyenv/versions/3.6.7/lib/python3.6/site-packages/sklearn/linear_model/logistic.py:432: FutureWarning: Default solver will be changed to 'lbfgs' in 0.22. Specify a solver to silence this warning.\n",
      "  FutureWarning)\n"
     ]
    },
    {
     "name": "stdout",
     "output_type": "stream",
     "text": [
      "1.0\n"
     ]
    }
   ],
   "source": [
    "ngrams = [(2,2), (3,3), (1,3)]\n",
    "clf = LogisticRegression(random_state = 2)\n",
    "\n",
    "for i in ngrams:\n",
    "    count_vect = CountVectorizer(ngram_range = i)\n",
    "    X_train_counts = count_vect.fit_transform(texts)\n",
    "    scores = cross_val_score(clf, X_train_counts, labels, scoring = 'f1', cv = 10)\n",
    "    print (round(scores.mean(),2))"
   ]
  },
  {
   "cell_type": "code",
   "execution_count": null,
   "metadata": {},
   "outputs": [],
   "source": []
  }
 ],
 "metadata": {
  "kernelspec": {
   "display_name": "Python 3",
   "language": "python",
   "name": "python3"
  },
  "language_info": {
   "codemirror_mode": {
    "name": "ipython",
    "version": 3
   },
   "file_extension": ".py",
   "mimetype": "text/x-python",
   "name": "python",
   "nbconvert_exporter": "python",
   "pygments_lexer": "ipython3",
   "version": "3.6.7"
  }
 },
 "nbformat": 4,
 "nbformat_minor": 2
}
