{
 "cells": [
  {
   "cell_type": "code",
   "execution_count": null,
   "metadata": {},
   "outputs": [],
   "source": []
  },
  {
   "cell_type": "code",
   "execution_count": 1,
   "metadata": {},
   "outputs": [],
   "source": [
    "from models import UNet3D\n",
    "from datasets import Brains\n",
    "import numpy as np\n",
    "import os"
   ]
  },
  {
   "cell_type": "code",
   "execution_count": 2,
   "metadata": {},
   "outputs": [],
   "source": [
    "import torch\n",
    "import torch.nn as nn\n",
    "import torch.nn.functional as F\n",
    "from torch.autograd import Variable\n",
    "\n",
    "import torchvision.transforms as transforms\n",
    "from torch.utils.data import Dataset"
   ]
  },
  {
   "cell_type": "code",
   "execution_count": 8,
   "metadata": {},
   "outputs": [],
   "source": [
    "net = UNet3D(input_nc=1,output_nc=2)\n",
    "net.load_state_dict(torch.load('../ckpt/1to8_05_05_3d_ce/model_250_epochs'))\n",
    "net=net.cuda();"
   ]
  },
  {
   "cell_type": "code",
   "execution_count": 9,
   "metadata": {},
   "outputs": [],
   "source": [
    "os.environ['CUDA_VISIBLE_DEVICES'] = '0'"
   ]
  },
  {
   "cell_type": "code",
   "execution_count": 10,
   "metadata": {},
   "outputs": [],
   "source": [
    "def postprocess(network_output, mask_path='../convexmask.npy'):\n",
    "    \n",
    "    mask = np.load(mask_path)\n",
    "    \n",
    "    postproc = torch.zeros_like(network_output)\n",
    "    postproc[0] = torch.FloatTensor(mask)[None,...]\n",
    "#     postproc[1] = torch.FloatTensor(mask)[None,...]\n",
    "    \n",
    "    return network_output*postproc\n",
    "\n",
    "def dice_score(input, target):\n",
    "    smooth = 1e-3\n",
    "    iflat = input.reshape((input.size(0),-1))\n",
    "    tflat = target.reshape((target.size(0),-1))\n",
    "    intersection = (iflat * tflat).sum(1)\n",
    "    \n",
    "    return ((2. * intersection + smooth) / (iflat.sum(1) + tflat.sum(1) + smooth))\n",
    "\n",
    "def test_sequential(image, model, size=64, stride=64, verbose=False):\n",
    "    #image = float tensor from dataloader\n",
    "    model.eval()\n",
    "    \n",
    "    out = torch.zeros_like(image)\n",
    "    \n",
    "    for i in range(image.shape[3]//size):\n",
    "        for j in range(image.shape[4]//size):\n",
    "            crop = image[:,:,:,i*size:(i + 1)*size,j*size:(j+1)*size]\n",
    "            crop_predicted = model(Variable(crop).cuda())\n",
    "            crop_predicted = crop_predicted.max(1, keepdim=True)[1]\n",
    "            out[:,:,:,i*size:(i+1)*size,j*size: (j+1)*size] = crop_predicted.data\n",
    "    \n",
    "    return out\n",
    "\n",
    "def validate_train(model, postprocess=None):\n",
    "    data = Brains(crop=False, folder='../scanmasks-train/')\n",
    "    batch_size = 1\n",
    "    valit = torch.utils.data.DataLoader(data, batch_size=batch_size, shuffle=False, drop_last=False, num_workers=0)\n",
    "    dices = np.array([])\n",
    "    for X_batch, masks_batch in valit:\n",
    "        preds = test_sequential(X_batch, model)\n",
    "#         print(preds.shape)\n",
    "        if postprocess:\n",
    "            preds = postprocess(preds)\n",
    "#             print(preds.shape)\n",
    "        d = dice_score(preds, masks_batch.type(torch.FloatTensor))\n",
    "        dices = np.hstack([dices, d.numpy()])\n",
    "        print(np.mean(dices), len(dices))\n",
    "        \n",
    "    return dices\n"
   ]
  },
  {
   "cell_type": "code",
   "execution_count": 11,
   "metadata": {},
   "outputs": [
    {
     "name": "stdout",
     "output_type": "stream",
     "text": [
      "01_228\n",
      "01_356\n",
      "01_481\n",
      "01_73\n",
      "01_453\n",
      "01_230\n",
      "01_479\n",
      "01_32\n",
      "01_373\n"
     ]
    },
    {
     "data": {
      "text/plain": [
       "0.5551753408379025"
      ]
     },
     "execution_count": 11,
     "metadata": {},
     "output_type": "execute_result"
    }
   ],
   "source": [
    "from utils import validate, postprocess\n",
    "\n",
    "validate(net, postprocess=postprocess)\n",
    "# validate(net)"
   ]
  },
  {
   "cell_type": "code",
   "execution_count": null,
   "metadata": {},
   "outputs": [],
   "source": [
    "# 0.48293770684136283"
   ]
  },
  {
   "cell_type": "code",
   "execution_count": null,
   "metadata": {},
   "outputs": [],
   "source": [
    "d = validate_train(net, postprocess=postprocess)"
   ]
  },
  {
   "cell_type": "code",
   "execution_count": null,
   "metadata": {},
   "outputs": [],
   "source": [
    "def validate(model):\n",
    "    data = Brains(crop=False, folder='../scanmasks-val/')\n",
    "    batch_size = 2\n",
    "    valit = torch.utils.data.DataLoader(data, batch_size=batch_size, shuffle=False, drop_last=False, num_workers=0)\n",
    "    dices = np.array([])\n",
    "    for X_batch, masks_batch in valit:\n",
    "        preds = test_sequential(X_batch, model)\n",
    "        d = dice_score(preds, masks_batch.type(torch.FloatTensor))\n",
    "        dices = np.hstack([dices, d.numpy()])\n",
    "        print(d)\n",
    "        \n",
    "    return np.mean(dices)\n",
    "\n",
    "        "
   ]
  },
  {
   "cell_type": "code",
   "execution_count": null,
   "metadata": {},
   "outputs": [],
   "source": [
    "def dice_score(input, target):\n",
    "    smooth = 1e-3\n",
    "    iflat = input.reshape((input.size(0),-1))\n",
    "    tflat = target.reshape((target.size(0),-1))\n",
    "    intersection = (iflat * tflat).sum(1)\n",
    "    \n",
    "    return ((2. * intersection + smooth) / (iflat.sum(1) + tflat.sum(1) + smooth))"
   ]
  },
  {
   "cell_type": "code",
   "execution_count": null,
   "metadata": {},
   "outputs": [],
   "source": [
    "def test_sequential(image, model, size=64, stride=64, verbose=False):\n",
    "    #image = float tensor from dataloader\n",
    "    model.eval()\n",
    "    \n",
    "    out = torch.zeros_like(image)\n",
    "    \n",
    "    for i in range(image.shape[3]//size):\n",
    "        for j in range(image.shape[4]//size):\n",
    "            crop = image[:,:,:,i*size:(i + 1)*size,j*size:(j+1)*size]\n",
    "            crop_predicted = model(Variable(crop).cuda())\n",
    "            crop_predicted = crop_predicted.max(1, keepdim=True)[1]\n",
    "            out[:,:,:,i*size:(i+1)*size,j*size: (j+1)*size] = crop_predicted.data\n",
    "    \n",
    "    return out"
   ]
  },
  {
   "cell_type": "code",
   "execution_count": null,
   "metadata": {},
   "outputs": [],
   "source": [
    "d = validate(net)\n",
    "d"
   ]
  },
  {
   "cell_type": "code",
   "execution_count": null,
   "metadata": {},
   "outputs": [],
   "source": [
    "d[0].numpy()"
   ]
  },
  {
   "cell_type": "code",
   "execution_count": null,
   "metadata": {},
   "outputs": [],
   "source": [
    "plt.imshow(b[1, 0, 10])"
   ]
  },
  {
   "cell_type": "code",
   "execution_count": null,
   "metadata": {},
   "outputs": [],
   "source": [
    "dice_score(t, b.type(torch.FloatTensor))"
   ]
  },
  {
   "cell_type": "code",
   "execution_count": null,
   "metadata": {},
   "outputs": [],
   "source": [
    "im = a[0, 0, 10]\n",
    "plt.imshow(im, cmap='gray')"
   ]
  },
  {
   "cell_type": "code",
   "execution_count": null,
   "metadata": {},
   "outputs": [],
   "source": [
    "aa=a.view(a.size(0),7*8, a.size(1), a.size(2), 64,64)"
   ]
  },
  {
   "cell_type": "code",
   "execution_count": null,
   "metadata": {},
   "outputs": [],
   "source": [
    "aa.shape"
   ]
  },
  {
   "cell_type": "code",
   "execution_count": null,
   "metadata": {},
   "outputs": [],
   "source": [
    "aa[0,25,:,12,...][0].shape"
   ]
  },
  {
   "cell_type": "code",
   "execution_count": null,
   "metadata": {},
   "outputs": [],
   "source": [
    "plt.imshow(aa[0,25,:,12,...][0].numpy(), cmap='gray')"
   ]
  },
  {
   "cell_type": "code",
   "execution_count": null,
   "metadata": {},
   "outputs": [],
   "source": []
  }
 ],
 "metadata": {
  "kernelspec": {
   "display_name": "Python 3",
   "language": "python",
   "name": "python3"
  },
  "language_info": {
   "codemirror_mode": {
    "name": "ipython",
    "version": 3
   },
   "file_extension": ".py",
   "mimetype": "text/x-python",
   "name": "python",
   "nbconvert_exporter": "python",
   "pygments_lexer": "ipython3",
   "version": "3.6.7"
  }
 },
 "nbformat": 4,
 "nbformat_minor": 2
}
